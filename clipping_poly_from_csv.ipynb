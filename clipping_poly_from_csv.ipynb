{
 "cells": [
  {
   "cell_type": "code",
   "execution_count": 11,
   "id": "democratic-extraction",
   "metadata": {},
   "outputs": [],
   "source": [
    "import pandas as pd\n",
    "import geopandas as gpd\n",
    "from shapely.geometry import Polygon\n",
    "from pyproj import CRS, Transformer\n",
    "\n",
    "from pathlib import Path\n"
   ]
  },
  {
   "cell_type": "code",
   "execution_count": 16,
   "id": "warming-leave",
   "metadata": {},
   "outputs": [],
   "source": [
    "def create_polygon_from_points(points_file, output_shapefile):\n",
    "    # Read the points from the CSV file using pandas\n",
    "    df = pd.read_csv(points_file)\n",
    "\n",
    "    # Extract x and y coordinates\n",
    "    points = list(zip(df['Easting_OPUS'], df['Northing_OPUS']))\n",
    "\n",
    "    # Create a Polygon object from the points\n",
    "    polygon = Polygon(points)\n",
    "\n",
    "    # Create a GeoDataFrame with the polygon, set crs\n",
    "    data = gpd.GeoDataFrame(geometry=[polygon], crs=2228)\n",
    "    \n",
    "#     # Set the input CRS to EPSG 2228\n",
    "# #     data.crs = CRS.from_epsg(2228)\n",
    "#     data = data.set_crs('epsg:2228')\n",
    "\n",
    "    # Create a transformer for the coordinate transformation\n",
    "#     transformer = Transformer.from_crs(2228, 6339, always_xy=True)\n",
    "\n",
    "    # Transform the polygon to EPSG 6339\n",
    "    data = data.to_crs(6339)\n",
    "\n",
    "#     # Set the output CRS to EPSG 6339\n",
    "#     data.crs = CRS.from_epsg(6339)\n",
    "\n",
    "    # Save the GeoDataFrame as a shapefile with EPSG 6339\n",
    "    data.to_file(output_shapefile, driver='ESRI Shapefile')\n"
   ]
  },
  {
   "cell_type": "code",
   "execution_count": 17,
   "id": "novel-perception",
   "metadata": {},
   "outputs": [],
   "source": [
    "# Example usage\n",
    "points_file = Path(r\"C:\\Users\\jlogan\\OneDrive - DOI\\LRDP\\LosPadresRes\\DoD\\shp\\2016_hull_pts.csv\")\n",
    "output_shapefile = Path(r\"C:\\Users\\jlogan\\OneDrive - DOI\\LRDP\\LosPadresRes\\DoD\\shp\\2016_hull_poly.shp\")\n",
    "create_polygon_from_points(points_file, output_shapefile)"
   ]
  },
  {
   "cell_type": "code",
   "execution_count": null,
   "id": "attempted-holder",
   "metadata": {},
   "outputs": [],
   "source": []
  }
 ],
 "metadata": {
  "kernelspec": {
   "display_name": "Python 3",
   "language": "python",
   "name": "python3"
  },
  "language_info": {
   "codemirror_mode": {
    "name": "ipython",
    "version": 3
   },
   "file_extension": ".py",
   "mimetype": "text/x-python",
   "name": "python",
   "nbconvert_exporter": "python",
   "pygments_lexer": "ipython3",
   "version": "3.7.9"
  }
 },
 "nbformat": 4,
 "nbformat_minor": 5
}
