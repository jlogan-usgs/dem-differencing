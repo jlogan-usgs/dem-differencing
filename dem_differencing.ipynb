{
 "cells": [
  {
   "cell_type": "markdown",
   "id": "civil-parker",
   "metadata": {},
   "source": [
    "## Difference two DEMs"
   ]
  },
  {
   "cell_type": "code",
   "execution_count": 5,
   "id": "specialized-supplier",
   "metadata": {},
   "outputs": [],
   "source": [
    "import numpy as np\n",
    "import rasterio\n",
    "from rasterio.coords import BoundingBox\n",
    "from rasterio.mask import mask\n",
    "\n",
    "import pandas as pd\n",
    "import geopandas as gpd\n",
    "import math\n",
    "\n",
    "from pathlib import Path\n",
    "import matplotlib.pyplot as plt\n",
    "\n",
    "import os\n"
   ]
  },
  {
   "cell_type": "code",
   "execution_count": 34,
   "id": "individual-optics",
   "metadata": {},
   "outputs": [],
   "source": [
    "# #Adjusted and integer aligned (interpolation done by HDR)\n",
    "# #inputs\n",
    "# dem1 = Path(r\"C:\\Users\\jlogan\\OneDrive - DOI\\LRDP\\LosPadresRes\\bathy\\ReprojectedBathyDougSmith\\2016_correction\\HDR_LP1m_NAD832011_depth_dependent_corrected_v2_integer_aligned.tif\")\n",
    "# dem2 = Path(r\"C:\\Users\\jlogan\\OneDrive - DOI\\LRDP\\LosPadresRes\\bathy\\ReprojectedBathyDougSmith\\2017\\lp17cube1m_NAD832011_integer_aligned.tif\")\n",
    "# #out\n",
    "# outunclipped = Path(r\"C:\\Users\\jlogan\\OneDrive - DOI\\LRDP\\LosPadresRes\\DoD\\DoD_2017-HDR_DepCorrV2_script_generated.tif\")\n",
    "# outclipped = Path(r\"C:\\Users\\jlogan\\OneDrive - DOI\\LRDP\\LosPadresRes\\DoD\\DoD_2017-HDR_DepCorrV2_script_generated_clipped.tif\")\n",
    "\n",
    "# #Bathy pts adjusted, interpolated (tinned and tin_ras) by jlogan\n",
    "# #inputs\n",
    "# dem1 = Path(r\"C:\\Users\\jlogan\\OneDrive - DOI\\LRDP\\LosPadresRes\\bathy\\HDR_2016_reinterpolate\\tinras\\HDR_reinterp_adj_1m.tif\")\n",
    "# dem2 = Path(r\"C:\\Users\\jlogan\\OneDrive - DOI\\LRDP\\LosPadresRes\\bathy\\ReprojectedBathyDougSmith\\2017\\lp17cube1m_NAD832011_integer_aligned.tif\")\n",
    "# #out\n",
    "# outunclipped = Path(r\"C:\\Users\\jlogan\\OneDrive - DOI\\LRDP\\LosPadresRes\\DoD\\DoD_2017-HDR_Reinterp_script_gen.tif\")\n",
    "# outclipped = Path(r\"C:\\Users\\jlogan\\OneDrive - DOI\\LRDP\\LosPadresRes\\DoD\\DoD_2017-HDR_Reinterp_script_gen_clipped.tif\")\n",
    "\n",
    "# #Bathy pts adjusted, interpolated (tinned and tin_ras) by jlogan (5m cell size)\n",
    "# #inputs\n",
    "# dem1 = Path(r\"C:\\Users\\jlogan\\OneDrive - DOI\\LRDP\\LosPadresRes\\bathy\\HDR_2016_reinterpolate\\tinras\\HDR_reinterp_adj_5m.tif\")\n",
    "# dem2 = Path(r\"C:\\Users\\jlogan\\OneDrive - DOI\\LRDP\\LosPadresRes\\bathy\\ReprojectedBathyDougSmith\\2017\\lp17cube1m_NAD832011_int_al_res5m.tif\")\n",
    "# #out\n",
    "# outunclipped = Path(r\"C:\\Users\\jlogan\\OneDrive - DOI\\LRDP\\LosPadresRes\\DoD\\DoD_2017-HDR_Reinterp_script_gen_5m.tif\")\n",
    "# outclipped = Path(r\"C:\\Users\\jlogan\\OneDrive - DOI\\LRDP\\LosPadresRes\\DoD\\DoD_2017-HDR_Reinterp_script_gen_clipped_5m.tif\")\n",
    "\n",
    "# #Bathy pts adjusted, interpolated (tinned and tin_ras) by jlogan (2m cell size)\n",
    "# #inputs\n",
    "# dem1 = Path(r\"C:\\Users\\jlogan\\OneDrive - DOI\\LRDP\\LosPadresRes\\bathy\\HDR_2016_reinterpolate\\tinras\\HDR_reinterp_adj_2m.tif\")\n",
    "# dem2 = Path(r\"C:\\Users\\jlogan\\OneDrive - DOI\\LRDP\\LosPadresRes\\bathy\\ReprojectedBathyDougSmith\\2017\\lp17cube1m_NAD832011_int_al_res2m.tif\")\n",
    "# #out\n",
    "# outunclipped = Path(r\"C:\\Users\\jlogan\\OneDrive - DOI\\LRDP\\LosPadresRes\\DoD\\DoD_2017-HDR_Reinterp_script_gen_2m.tif\")\n",
    "# outclipped = Path(r\"C:\\Users\\jlogan\\OneDrive - DOI\\LRDP\\LosPadresRes\\DoD\\DoD_2017-HDR_Reinterp_script_gen_clipped_2m.tif\")\n",
    "\n",
    "#Bathy pts adjusted, interpolated (tinned and tin_ras) by jlogan (2m cell size)\n",
    "#inputs\n",
    "dem1 = Path(r\"C:\\Users\\jlogan\\OneDrive - DOI\\LRDP\\LosPadresRes\\bathy\\HDR_2016_reinterpolate\\tinras\\HDR_reinterp_adj_breaklines_1m.tif\")\n",
    "dem2 = Path(r\"C:\\Users\\jlogan\\OneDrive - DOI\\LRDP\\LosPadresRes\\bathy\\ReprojectedBathyDougSmith\\2017\\lp17cube1m_NAD832011_integer_aligned.tif\")\n",
    "#out\n",
    "outunclipped = Path(r\"C:\\Users\\jlogan\\OneDrive - DOI\\LRDP\\LosPadresRes\\DoD\\DoD_2017-HDR_Reinterp_breaklines_script_gen_1m.tif\")\n",
    "outclipped = Path(r\"C:\\Users\\jlogan\\OneDrive - DOI\\LRDP\\LosPadresRes\\DoD\\DoD_2017-HDR_Reinterp_breaklines_script_gen_clipped_1m.tif\")\n",
    "\n",
    "#Raster cell size\n",
    "cellsize = 1\n",
    "\n",
    "#DoD clip\n",
    "clip_shp = Path(r\"C:\\Users\\jlogan\\OneDrive - DOI\\LRDP\\LosPadresRes\\DoD\\shp\\2016_hull_poly.shp\")"
   ]
  },
  {
   "cell_type": "code",
   "execution_count": 36,
   "id": "harmful-medicine",
   "metadata": {},
   "outputs": [
    {
     "name": "stdout",
     "output_type": "stream",
     "text": [
      "Raster difference complete.\n"
     ]
    }
   ],
   "source": [
    "#DEM difference\n",
    "#with ChatGPT assitance\n",
    "# Open the input raster files using rasterio's context manager\n",
    "with rasterio.open(dem1) as dataset1, rasterio.open(dem2) as dataset2:\n",
    "    # Read the raster data as NumPy arrays\n",
    "    raster_data1 = dataset1.read(1)\n",
    "    raster_data2 = dataset2.read(1)\n",
    "\n",
    "    # Retrieve the affine transformation matrices\n",
    "    transform1 = dataset1.transform\n",
    "    transform2 = dataset2.transform\n",
    "\n",
    "    # Determine the common extent\n",
    "    bounds1 = dataset1.bounds\n",
    "    bounds2 = dataset2.bounds\n",
    "    intersection_bounds = BoundingBox(\n",
    "        max(bounds1.left, bounds2.left),\n",
    "        max(bounds1.bottom, bounds2.bottom),\n",
    "        min(bounds1.right, bounds2.right),\n",
    "        min(bounds1.top, bounds2.top)\n",
    "        )\n",
    "\n",
    "   # Update the transformation matrices to the common extent\n",
    "    window1 = dataset1.window(*intersection_bounds)\n",
    "    window2 = dataset2.window(*intersection_bounds)\n",
    "    transform1 = rasterio.windows.transform(window1, transform1)\n",
    "    transform2 = rasterio.windows.transform(window2, transform2)\n",
    "\n",
    "    # Read the subset of raster data within the common extent\n",
    "    raster_data1 = dataset1.read(1, window=window1)\n",
    "    raster_data2 = dataset2.read(1, window=window2)\n",
    "\n",
    "    # Compute the difference between the two rasters\n",
    "    difference = raster_data2 - raster_data1\n",
    "    \n",
    "    # Set nodata values in the difference array\n",
    "    nodata_mask = np.logical_or(raster_data1 == dataset1.nodata, raster_data2 == dataset2.nodata)\n",
    "    difference[nodata_mask] = dataset1.nodata\n",
    "\n",
    "    # Retrieve the metadata from one of the input rasters\n",
    "    metadata = dataset1.meta\n",
    "\n",
    "    # Update the metadata to reflect the difference raster\n",
    "    metadata.update(\n",
    "        count=1,\n",
    "        height=difference.shape[0],\n",
    "        width=difference.shape[1],\n",
    "        transform=transform1,\n",
    "        nodata=dataset1.nodata\n",
    "    )\n",
    "\n",
    "    # Create a new raster file for the difference\n",
    "    output_file = outunclipped\n",
    "    with rasterio.open(str(output_file), 'w', **metadata) as output_dataset:\n",
    "        output_dataset.write(difference, 1)\n",
    "\n",
    "print(\"Raster difference complete.\")\n"
   ]
  },
  {
   "cell_type": "code",
   "execution_count": 37,
   "id": "plain-grenada",
   "metadata": {},
   "outputs": [
    {
     "name": "stdout",
     "output_type": "stream",
     "text": [
      "Raster clipping complete, deleteing unclipped raster. Clipped raster saved to: C:\\Users\\jlogan\\OneDrive - DOI\\LRDP\\LosPadresRes\\DoD\\DoD_2017-HDR_Reinterp_breaklines_script_gen_1m.tif\n"
     ]
    }
   ],
   "source": [
    "#clip\n",
    "\n",
    "# Read the shapefile using geopandas\n",
    "shapefile = gpd.read_file(clip_shp)\n",
    "\n",
    "# Read the raster using rasterio\n",
    "with rasterio.open(outunclipped) as src:\n",
    "    # Clip the raster using the shapefile geometry\n",
    "    clipped_raster, clipped_transform = mask(src, shapefile.geometry, crop=True)\n",
    "    clipped_meta = src.meta\n",
    "\n",
    "# Update the metadata of the clipped raster\n",
    "clipped_meta.update({\n",
    "    'height': clipped_raster.shape[1],\n",
    "    'width': clipped_raster.shape[2],\n",
    "    'transform': clipped_transform\n",
    "})\n",
    "\n",
    "# Write the clipped raster to the output path\n",
    "with rasterio.open(outclipped, 'w', **clipped_meta) as dst:\n",
    "    dst.write(clipped_raster)\n",
    "\n",
    "#delete unclipped\n",
    "os.remove(outunclipped)\n",
    "\n",
    "print('Raster clipping complete, deleteing unclipped raster. Clipped raster saved to:', output_file)\n"
   ]
  },
  {
   "cell_type": "code",
   "execution_count": 43,
   "id": "senior-filter",
   "metadata": {},
   "outputs": [
    {
     "name": "stdout",
     "output_type": "stream",
     "text": [
      "Volume: 39044.01953125 m^3\n",
      "Area: 161587 m^2\n"
     ]
    }
   ],
   "source": [
    "#Calc sum\n",
    "with rasterio.open(outclipped) as src:\n",
    "    # Read the raster data as NumPy arrays\n",
    "    data = src.read(1, masked=True)\n",
    "\n",
    "    masked_raster = np.ma.masked_equal(data, src.nodata)\n",
    "    masked_sum = np.sum(masked_raster)\n",
    "    \n",
    "    vol = np.sum(masked_raster) * cellsize * cellsize\n",
    "    area = masked_raster.count() * cellsize * cellsize\n",
    "    \n",
    "    print(f'Volume: {vol} m^3\\nArea: {area} m^2')"
   ]
  },
  {
   "cell_type": "code",
   "execution_count": null,
   "id": "e482430e-5cb8-4fe5-bf70-b75cc727e7cd",
   "metadata": {},
   "outputs": [],
   "source": []
  }
 ],
 "metadata": {
  "kernelspec": {
   "display_name": "Python 3",
   "language": "python",
   "name": "python3"
  },
  "language_info": {
   "codemirror_mode": {
    "name": "ipython",
    "version": 3
   },
   "file_extension": ".py",
   "mimetype": "text/x-python",
   "name": "python",
   "nbconvert_exporter": "python",
   "pygments_lexer": "ipython3",
   "version": "3.6.13"
  }
 },
 "nbformat": 4,
 "nbformat_minor": 5
}
