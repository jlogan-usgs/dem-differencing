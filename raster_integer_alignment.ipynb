{
 "cells": [
  {
   "cell_type": "markdown",
   "id": "dying-cotton",
   "metadata": {},
   "source": [
    "## Perform raster integer alignment\n"
   ]
  },
  {
   "cell_type": "code",
   "execution_count": 5,
   "id": "respiratory-theta",
   "metadata": {},
   "outputs": [],
   "source": [
    "import math\n",
    "from pathlib import Path\n",
    "from osgeo import gdal, gdalconst"
   ]
  },
  {
   "cell_type": "code",
   "execution_count": 26,
   "id": "domestic-bennett",
   "metadata": {},
   "outputs": [],
   "source": [
    "def integer_align_raster(inras, outras):\n",
    "    #from gis.stackexchange.com/questions/296770/aligning-many-rasters-using-pyqgis-or-python\n",
    "    src = gdal.Open(str(inras), gdalconst.GA_ReadOnly)\n",
    "    dest = gdal.Open(str(inras), gdalconst.GA_ReadOnly)\n",
    "    srcProj = src.GetProjection()\n",
    "    ulx, xres, xskew, uly, yskew, yres  = src.GetGeoTransform()\n",
    "    lrx = ulx + (src.RasterXSize * xres)\n",
    "    lry = uly + (src.RasterYSize * yres)\n",
    "    #get target bounds (expanded to nearest integer\n",
    "    t_ulx = math.floor(ulx)\n",
    "    t_uly = math.ceil(uly)\n",
    "    t_lrx = math.ceil(lrx)\n",
    "    t_lry = math.floor(lry)\n",
    "    #gdalwarp\n",
    "    ds = gdal.Warp(str(outras), src, format='GTiff', outputBounds=[t_ulx, t_lry, t_lrx, t_uly], resampleAlg=gdal.GRA_Bilinear, creationOptions=['COMPRESS=LZW'])\n",
    "    \n",
    "  \n",
    "    "
   ]
  },
  {
   "cell_type": "code",
   "execution_count": 27,
   "id": "missing-hayes",
   "metadata": {},
   "outputs": [],
   "source": [
    "inras = Path(r\"C:\\Users\\jlogan\\OneDrive - DOI\\LRDP\\LosPadresRes\\bathy\\ReprojectedBathyDougSmith\\2016_correction\\HDR_LP1m_NAD832011_depth_dependent_corrected_v2.tif\")\n",
    "outras = Path(r\"C:\\Users\\jlogan\\OneDrive - DOI\\LRDP\\LosPadresRes\\bathy\\ReprojectedBathyDougSmith\\2016_correction\\HDR_LP1m_NAD832011_depth_dependent_corrected_v2_integer_aligned.tif\")\n",
    "\n",
    "integer_align_raster(inras,outras)"
   ]
  },
  {
   "cell_type": "code",
   "execution_count": 28,
   "id": "rational-population",
   "metadata": {},
   "outputs": [],
   "source": [
    "inras = Path(r\"C:\\Users\\jlogan\\OneDrive - DOI\\LRDP\\LosPadresRes\\bathy\\ReprojectedBathyDougSmith\\2017\\lp17cube1m_NAD832011.tif\")\n",
    "outras = Path(r\"C:\\Users\\jlogan\\OneDrive - DOI\\LRDP\\LosPadresRes\\bathy\\ReprojectedBathyDougSmith\\2017\\lp17cube1m_NAD832011_integer_aligned.tif\")\n",
    "\n",
    "integer_align_raster(inras,outras)"
   ]
  },
  {
   "cell_type": "code",
   "execution_count": null,
   "id": "arabic-diary",
   "metadata": {},
   "outputs": [],
   "source": []
  }
 ],
 "metadata": {
  "kernelspec": {
   "display_name": "Python 3",
   "language": "python",
   "name": "python3"
  },
  "language_info": {
   "codemirror_mode": {
    "name": "ipython",
    "version": 3
   },
   "file_extension": ".py",
   "mimetype": "text/x-python",
   "name": "python",
   "nbconvert_exporter": "python",
   "pygments_lexer": "ipython3",
   "version": "3.7.9"
  }
 },
 "nbformat": 4,
 "nbformat_minor": 5
}
