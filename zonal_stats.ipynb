{
 "cells": [
  {
   "cell_type": "markdown",
   "id": "natural-assurance",
   "metadata": {},
   "source": [
    "### Zonal stats for stable areas"
   ]
  },
  {
   "cell_type": "code",
   "execution_count": 1,
   "id": "urban-religion",
   "metadata": {},
   "outputs": [],
   "source": [
    "import geopandas as gpd\n",
    "import rasterio\n",
    "from rasterio.features import rasterize\n",
    "from rasterstats import zonal_stats\n",
    "\n",
    "from pathlib import Path"
   ]
  },
  {
   "cell_type": "code",
   "execution_count": 18,
   "id": "filled-reconstruction",
   "metadata": {},
   "outputs": [],
   "source": [
    "#inputs\n",
    "# dod = Path(r\"C:\\Users\\jlogan\\OneDrive - DOI\\LRDP\\LosPadresRes\\DoD\\DoD_2017-HDR_DepCorrV2_script_generated_clipped.tif\")\n",
    "dod = Path(r\"C:\\Users\\jlogan\\OneDrive - DOI\\LRDP\\LosPadresRes\\DoD\\DoD_2017-HDR_Reinterp_breaklinesv2_script_gen_clipped_1m.tif\")\n",
    "polyshp = Path(r\"C:\\Users\\jlogan\\OneDrive - DOI\\LRDP\\LosPadresRes\\DoD\\shp\\Stable_areas_script_zonal_stats.shp\")"
   ]
  },
  {
   "cell_type": "code",
   "execution_count": 19,
   "id": "french-formation",
   "metadata": {},
   "outputs": [
    {
     "name": "stdout",
     "output_type": "stream",
     "text": [
      "   id      mean       max       min       std\n",
      "0   1  0.005014  0.313477 -0.361816  0.069589\n",
      "1   2 -0.050336  0.258453 -0.403961  0.067099\n",
      "2   3  0.064440  2.653412 -1.478241  0.418849\n",
      "3   4  0.209625  0.472015 -0.136688  0.066501\n",
      "4   6 -0.154143  2.000153 -2.566071  0.522106\n",
      "5  90 -0.013173  4.190704 -2.566071  0.313686\n"
     ]
    }
   ],
   "source": [
    "# Read the shapefile using geopandas\n",
    "shapefile = gpd.read_file(polyshp)\n",
    "\n",
    "# Read the raster using rasterio\n",
    "with rasterio.open(dod) as src:\n",
    "    # Get the raster values as a numpy array\n",
    "    raster_values = src.read(1)\n",
    "    \n",
    "        # Get the affine transformation from the raster\n",
    "    transform = src.transform\n",
    "\n",
    "    # Perform the zonal statistics using rasterstats\n",
    "    stats = zonal_stats(shapefile, raster_values, affine=transform, nodata=src.nodata, stats=['mean', 'max', 'min', 'std', 'sum'])\n",
    "\n",
    "#     # Perform the zonal statistics using rasterstats\n",
    "#     stats = zonal_stats(polyshp, raster_values, stats=['mean', 'max', 'min', 'std'])\n",
    "\n",
    "# Extract the statistics and add them as new attributes in the shapefile\n",
    "shapefile['DoD'] = dod.name\n",
    "shapefile['mean'] = [stat['mean'] for stat in stats]\n",
    "shapefile['max'] = [stat['max'] for stat in stats]\n",
    "shapefile['min'] = [stat['min'] for stat in stats]\n",
    "shapefile['std'] = [stat['std'] for stat in stats]\n",
    "shapefile['sum'] = [stat['sum'] for stat in stats]\n",
    "\n",
    "#print stats\n",
    "print(shapefile[['id','mean','max','min','std','sum']])\n",
    "\n",
    "# Save attributes to the updated shapefile\n",
    "shapefile.to_file(polyshp)"
   ]
  },
  {
   "cell_type": "code",
   "execution_count": null,
   "id": "bored-drove",
   "metadata": {},
   "outputs": [],
   "source": []
  }
 ],
 "metadata": {
  "kernelspec": {
   "display_name": "Python 3",
   "language": "python",
   "name": "python3"
  },
  "language_info": {
   "codemirror_mode": {
    "name": "ipython",
    "version": 3
   },
   "file_extension": ".py",
   "mimetype": "text/x-python",
   "name": "python",
   "nbconvert_exporter": "python",
   "pygments_lexer": "ipython3",
   "version": "3.7.9"
  }
 },
 "nbformat": 4,
 "nbformat_minor": 5
}
