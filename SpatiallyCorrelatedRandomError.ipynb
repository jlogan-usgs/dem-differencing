{
 "cells": [
  {
   "cell_type": "markdown",
   "id": "1cdf2a84-357b-4888-aa30-c85cb45d8f91",
   "metadata": {},
   "source": [
    "### Calculate spatially correlated random error on a DoD\n",
    "\n",
    "- Uses a shapefile polygon to define a stable area\n",
    "- imports the DoD as a Geotiff raster\n",
    "- Clips DoD raster using a polygon\n",
    "- converts clipped raster to x, y, z points\n",
    "- performs Kriging"
   ]
  },
  {
   "cell_type": "code",
   "execution_count": 85,
   "id": "8b3fdb31-8937-49f0-88fc-0981b5bab42c",
   "metadata": {},
   "outputs": [],
   "source": [
    "import rasterio\n",
    "from rasterio.mask import mask\n",
    "import geopandas as gpd\n",
    "import numpy as np\n",
    "import pandas as pd\n",
    "from pykrige.ok import OrdinaryKriging\n",
    "\n",
    "from pyproj import CRS\n",
    "\n",
    "from pathlib import Path"
   ]
  },
  {
   "cell_type": "code",
   "execution_count": 90,
   "id": "38037a95-c581-463c-9cea-9543388d7d29",
   "metadata": {},
   "outputs": [],
   "source": [
    "indod = Path(r\"C:\\Users\\jlogan\\OneDrive - DOI\\LRDP\\LosPadresRes\\DoD\\DoD_2017-HDR_Reinterp_script_gen_clipped.tif\")\n",
    "inshp = Path(r\"C:\\Users\\jlogan\\OneDrive - DOI\\LRDP\\LosPadresRes\\DoD\\shp\\Stable_areas_script_zonal_stats.shp\")\n",
    "\n",
    "out_clip_ras = Path(r\"C:\\Users\\jlogan\\OneDrive - DOI\\LRDP\\LosPadresRes\\DoD\\temp_clipped.tif\")\n",
    "out_clip_pts_shp = Path(r\"C:\\Users\\jlogan\\OneDrive - DOI\\LRDP\\LosPadresRes\\DoD\\temp_clipped_pts.shp\")\n",
    "\n",
    "stable_poly_id = [1, 2]"
   ]
  },
  {
   "cell_type": "code",
   "execution_count": 91,
   "id": "42e3db9c-f1a1-4719-9093-c2ffce0b3ac7",
   "metadata": {},
   "outputs": [
    {
     "name": "stdout",
     "output_type": "stream",
     "text": [
      "Using spherical Variogram Model\n",
      "Partial Sill: 0.004221612803161986\n",
      "Full Sill: 0.004221612803162599\n",
      "Range: 21.55845406779102\n",
      "Nugget: 6.135545473223874e-16\n"
     ]
    }
   ],
   "source": [
    "# Read the polygon shapefile using geopandas\n",
    "polygon_gdf = gpd.read_file(inshp)\n",
    "\n",
    "#filter only stable polygons\n",
    "polygon_gdf = polygon_gdf.loc[polygon_gdf['id'].isin(stable_poly_id)]\n",
    "\n",
    "# Read the raster using rasterio\n",
    "with rasterio.open(indod) as src:\n",
    "    # Clip the raster using the shapefile geometry\n",
    "    clipped_raster, clipped_transform = rasterio.mask.mask(src, polygon_gdf.geometry, crop=True)\n",
    "    clipped_meta = src.meta\n",
    "\n",
    "# Update the metadata of the clipped raster\n",
    "clipped_meta.update({\n",
    "    'height': clipped_raster.shape[1],\n",
    "    'width': clipped_raster.shape[2],\n",
    "    'transform': clipped_transform\n",
    "})\n",
    "\n",
    "# # Write the clipped raster to the output path\n",
    "# with rasterio.open(out_clip_ras, 'w', **clipped_meta) as dst:\n",
    "#     dst.write(clipped_raster)\n",
    "\n",
    "# Extract the x, y coordinates from the transform\n",
    "x_coords = []\n",
    "y_coords = []\n",
    "z_values = []\n",
    "\n",
    "for row in range(clipped_raster.shape[1]):\n",
    "    for col in range(clipped_raster.shape[2]):\n",
    "        x, y = rasterio.transform.xy(clipped_transform, row, col)\n",
    "        value = clipped_raster[0, row, col]  # Assume single-band raster\n",
    "\n",
    "        if value != clipped_meta['nodata']:\n",
    "            x_coords.append(x)\n",
    "            y_coords.append(y)\n",
    "            z_values.append(value)\n",
    "\n",
    "# Create a pandas DataFrame with x, y, z values\n",
    "df = pd.DataFrame({'x': x_coords, 'y': y_coords, 'z': z_values})\n",
    "\n",
    "#output points as shape\n",
    "geometry = gpd.points_from_xy(df['x'], df['y'])\n",
    "gdf = gpd.GeoDataFrame(df, geometry=geometry)\n",
    "gdf.crs = clipped_meta['crs']\n",
    "gdf.to_file(out_clip_pts_shp, driver='ESRI Shapefile')\n",
    "    \n",
    "# Define the kriging model without nugget effect\n",
    "OK = OrdinaryKriging(x_coords[:100], y_coords[:100], z_values[:100], variogram_model='spherical')\n",
    "\n",
    "# Perform ordinary kriging\n",
    "z_pred, sigmasq_pred = OK.execute('grid', x_coords[:100], y_coords[:100])\n",
    "\n",
    "# Get the sill value\n",
    "sill = OK.variogram_model\n",
    "\n",
    "# Get the range\n",
    "range_value = OK.variogram_model\n",
    "\n",
    "# Print the sill value and range\n",
    "print(f'Using {OK.variogram_model} Variogram Model')\n",
    "print(f'Partial Sill: {OK.variogram_model_parameters[0]}')\n",
    "print(f'Full Sill: {OK.variogram_model_parameters[0] + OK.variogram_model_parameters[2]}')\n",
    "print(f'Range: {OK.variogram_model_parameters[1]}')\n",
    "print(f'Nugget: {OK.variogram_model_parameters[2]}')\n"
   ]
  },
  {
   "cell_type": "code",
   "execution_count": null,
   "id": "e19f02cf-0eb6-42b5-9d65-8fcbfbd0df23",
   "metadata": {},
   "outputs": [],
   "source": []
  }
 ],
 "metadata": {
  "kernelspec": {
   "display_name": "Python 3",
   "language": "python",
   "name": "python3"
  },
  "language_info": {
   "codemirror_mode": {
    "name": "ipython",
    "version": 3
   },
   "file_extension": ".py",
   "mimetype": "text/x-python",
   "name": "python",
   "nbconvert_exporter": "python",
   "pygments_lexer": "ipython3",
   "version": "3.6.13"
  }
 },
 "nbformat": 4,
 "nbformat_minor": 5
}
